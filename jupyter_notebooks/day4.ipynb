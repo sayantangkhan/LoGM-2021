{
 "cells": [
  {
   "cell_type": "markdown",
   "metadata": {},
   "source": [
    "## Day 3 recap\n",
    "\n",
    "Our long term goal is to understand which translation surfaces have a convex presentation. An intermediate step in that direction is understanding the cylinder decomposition of the given translation surface in various directions. Here's an example that we have seen before. Consider the origami $T$ made out of $3$ squares."
   ]
  },
  {
   "cell_type": "code",
   "execution_count": 1,
   "metadata": {},
   "outputs": [
    {
     "data": {
      "image/png": "[encoded data removed]",
      "text/plain": [
       "Graphics object consisting of 38 graphics primitives"
      ]
     },
     "execution_count": 1,
     "metadata": {},
     "output_type": "execute_result"
    }
   ],
   "source": [
    "from surface_dynamics.all import Origami # Setting up the imports\n",
    "\n",
    "T_up_permutation = '(1, 2)' # We are using cycle notation for permutation.\n",
    "T_right_permutation = '(2, 3)'\n",
    "\n",
    "T = Origami(T_right_permutation, T_up_permutation)\n",
    "\n",
    "T.set_positions([(0,2), (0,1), (1,1)])\n",
    "T.plot()"
   ]
  },
  {
   "cell_type": "markdown",
   "metadata": {},
   "source": [
    "We deduced that $T$ has a convex presentation by observing that in the $\\frac{3\\pi}{4}$ direction, there is only one cylinder. An equivalent way of deducing that would have been to rotate $T$ by $-\\frac{3\\pi}{4}$, and the count the number of horizontal cylinders. The resulting translation surface isn't quite an origami generated by area 1 squares, but is, after scaling."
   ]
  },
  {
   "cell_type": "code",
   "execution_count": 2,
   "metadata": {},
   "outputs": [
    {
     "data": {
      "image/png": "[encoded data removed]",
      "text/plain": [
       "Graphics object consisting of 58 graphics primitives"
      ]
     },
     "execution_count": 2,
     "metadata": {},
     "output_type": "execute_result"
    }
   ],
   "source": [
    "RT_up_permutation = '(1, 2, 3, 6, 5, 4)'\n",
    "RT_right_permutation = '(1, 2, 3, 4, 5, 6)'\n",
    "\n",
    "RT = Origami(RT_right_permutation, RT_up_permutation)\n",
    "\n",
    "RT.plot()"
   ]
  },
  {
   "cell_type": "markdown",
   "metadata": {},
   "source": [
    "Clearly, $RT$ has only one horizontal cylinder, as evident from the plot. One can also check that without plotting the picture."
   ]
  },
  {
   "cell_type": "code",
   "execution_count": 3,
   "metadata": {},
   "outputs": [
    {
     "data": {
      "text/plain": [
       "1"
      ]
     },
     "execution_count": 3,
     "metadata": {},
     "output_type": "execute_result"
    }
   ],
   "source": [
    "RT.num_cylinders()"
   ]
  },
  {
   "cell_type": "markdown",
   "metadata": {},
   "source": [
    "Of course it's not true that for any translation surface with a convex presentation, one can find a one-cylinder direction, but knowing how the surface decomposes as a cylinder in various directions is still useful.\n",
    "\n",
    "**Proposition 3 from Lelièvre-Weiss**: If a translation surface $S$ has a convex presentation as a $2n$-gon, then it contains a cylinder satisfying a certain number of properties that can be checked...\n",
    "\n",
    "This paraphrasing also suggests that it will be convenient to get the cylinder decomposition of surface in any direction we like.\n",
    "\n",
    "## Working with origamis\n",
    "\n",
    "When performing computations on a computer, it will be convenient to work with origamis rather than a general translation surface. That's because specifying an arbitrary translation surface of genus $g$ with $n$ cone points requires specifying $4g + 2n - 2$ real numbers. However, real numbers are hard to represent exactly on a computer, since they are given by infinite sequences of rational numbers. We will compromise by considering only those translation surfaces which can be represented with $4g +2n - 2$ rational numbers, and those are precisely origamis.\n",
    "\n",
    "Recall that an $n$-origami is specified by considering $n$-squares, labelled $[1, \\ldots, n]$, and specifying how the right and top edge are glued together. That is to say, an $n$-origami can be specifed with the tuple $(\\pi_r, \\pi_u)$, where $\\pi_r \\in S_n$ is a permutation specifying how the right edges are glued, and $\\pi_u$ is a permutation specifying how the top edges are glued. In Sage, the most convenient way of representing a permutation is using the cycle notation (**interrupt me if you'd like a refresher on cycle notation**).\n",
    "\n",
    "## $SL_2(\\mathbb{Z})$-action on $n$-origamis\n",
    "\n",
    "Since origamis are translation surfaces, one has a $GL_2(\\mathbb{R})$ action on them. However, it's not guaranteed that origamis will get sent to origamis. We saw three examples of such matrices last week, although the proof of that fact was left as an exercise. \n",
    "\n",
    "But if we restrict our attention to elements of $SL_2(\\mathbb{Z})$, then origamis indeed do get sent to origamis. Consider the following two matrices.\n",
    "\n",
    "- $S = \\begin{pmatrix}\n",
    "    1 & 1 \\\\\n",
    "    0 & 1\n",
    "  \\end{pmatrix}$: Shearing in the horizontal direction.\n",
    "- $R = \\begin{pmatrix}\n",
    "    0 & -1 \\\\\n",
    "    1 & 0\n",
    "  \\end{pmatrix}$: Rotation anticlockwise by $\\frac{\\pi}{2}$ radians.\n",
    "\n",
    "We can work out what $R$ does to an origami $(\\pi_r, \\pi_u)$ by observing what it does to a single square. It rotates it so that the original right is the new up, and the original up is the new left. That is to say that the up and left permutations of a the new origami are the right and up permutations of the original origami. Also note that for any origami, the left and right permutations are inverses. We thus get a formula for the action of $R$.\n",
    "$$R((\\pi_r, \\pi_u)) = (\\pi_u^{-1}, \\pi_r)$$\n",
    "Working out a similar formula for the action of $S$ was an exercise. It works out to be the following.\n",
    "$$S((\\pi_r, \\pi_u)) = (\\pi_r, \\pi_u \\pi_r^{-1})$$\n",
    "\n",
    "The actions of $S$ and $R$ are already implemented in `surface_dynamics`. See last week's Jupyter notebook for the actual method names.\n",
    "\n",
    "**Fact:** One can represent any element of $SL_2(\\mathbb{Z})$ as a product of copies of $S$, $S^{-1}$ and $R$."
   ]
  },
  {
   "cell_type": "markdown",
   "metadata": {},
   "source": [
    "**Exercise**: Implement the algorithm to factor elements of $SL_2(\\mathbb{Z})$ into products of $S$, $S^{-1}$ and $R$. Once you have done so, write a function `sl2_action(matrix, origami)` that takes in a `matrix` in $SL_2(\\mathbb{Z})$ and an origami, and outputs the origami which is the result of making `matrix` act on origami. Note that this has not been implemented in `surface_dynamics`, so if you manage to write a nice efficient implementation, you can contribute it upstream."
   ]
  },
  {
   "cell_type": "markdown",
   "metadata": {},
   "source": [
    "## Rotations of origamis\n",
    "\n",
    "Observe that $SL_2(\\mathbb{Z})$ action isn't flexible enough for our purposes. The only rotations it allows are rotations by integer multiples of $\\frac{\\pi}{2}$, whereas we would like rotations by more angles, like $\\frac{\\pi}{4}$, like we did in the first example today. More concretely, we will rotate and scale for convenience: the matrix we want to act by is $M = \\begin{pmatrix}1 & -1 \\\\ 1 & 1\\end{pmatrix}$.\n",
    "\n",
    "**Exercise**: Determine how the permutation data of an origami changes when acted upon by $M$. Note that this matrix turns an $n$-origami into a $2n$-origami, which means we will map a pair $(\\pi_r, \\pi_u) \\in S_n \\times S_n$ to an element $(\\widetilde{\\pi}_r, \\widetilde{\\pi}_u) \\in S_{2n} \\times S_{2n}$."
   ]
  }
 ],
 "metadata": {
  "kernelspec": {
   "display_name": "SageMath 9.0",
   "language": "sage",
   "name": "sagemath"
  },
  "language_info": {
   "codemirror_mode": {
    "name": "ipython",
    "version": 3
   },
   "file_extension": ".py",
   "mimetype": "text/x-python",
   "name": "python",
   "nbconvert_exporter": "python",
   "pygments_lexer": "ipython3",
   "version": "3.8.5"
  }
 },
 "nbformat": 4,
 "nbformat_minor": 4
}
