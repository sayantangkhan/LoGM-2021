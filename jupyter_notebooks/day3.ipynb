{
 "cells": [
  {
   "cell_type": "markdown",
   "metadata": {},
   "source": [
    "# Working with origamis/square-tiled surfaces in Sage\n",
    "\n",
    "An $n$-origami (i.e. an origami made with $n$-squares) can be specified by describing how the right edge of each square glues to the left edge of some other square, and how the top edge of each square glues to the bottom edge of some other square. This gluing data $(\\pi_r, \\pi_u)$ corresponds to a permutation of $[1, 2, \\ldots, N]$ (where $1, \\ldots, N$ are the labels of the squares). Clearly, permuting the square labels will not change the resulting origami, which means if $(\\pi_r, \\pi_u)$ and $(\\pi_r', pi_u')$ are conjugate elements via the same element of $S_n$, they correspond to the same origami.\n",
    "\n",
    "## Constructing examples"
   ]
  },
  {
   "cell_type": "code",
   "execution_count": 2,
   "metadata": {},
   "outputs": [
    {
     "data": {
      "image/png": "[encoded data removed]",
      "text/plain": [
       "Graphics object consisting of 43 graphics primitives"
      ]
     },
     "execution_count": 2,
     "metadata": {},
     "output_type": "execute_result"
    }
   ],
   "source": [
    "from surface_dynamics.all import Origami # Setting up the imports\n",
    "\n",
    "up_permutation = '(2, 3)' # We are using cycle notation for permutation.\n",
    "right_permutation = '(1, 2)'\n",
    "\n",
    "origami_one = Origami(up_permutation, right_permutation)\n",
    "\n",
    "origami_one.plot()"
   ]
  },
  {
   "cell_type": "markdown",
   "metadata": {},
   "source": [
    "Sometimes it is convenient to adjust the positions of the squares in the generated image. This is done using the `set_positions` method."
   ]
  },
  {
   "cell_type": "code",
   "execution_count": 3,
   "metadata": {},
   "outputs": [
    {
     "data": {
      "image/png": "[encoded data removed]",
      "text/plain": [
       "Graphics object consisting of 38 graphics primitives"
      ]
     },
     "execution_count": 3,
     "metadata": {},
     "output_type": "execute_result"
    }
   ],
   "source": [
    "origami_one.set_positions([(0,2), (0,1), (1,1)])\n",
    "origami_one.plot()"
   ]
  },
  {
   "cell_type": "markdown",
   "metadata": {},
   "source": [
    "## Isomorphism for origamis\n",
    "The surprising result is that the simultaneous conjugacy class of $(\\pi_u, \\pi_r)$ is a complete invariant, i.e. if two $n$-origamis are isomorphic by a cut-and-paste operation, they will have conjugate permutation data. This lets us determine whether two origamis are related by cut-and-paste operatations by simply checking whether the pairs of permutations defining the origamis are conjugate or not.\n",
    "\n",
    "This is somewhat surprising since the cut-and-paste operations need not be along the building block squares of the origami, but can be any cut, for instance, along diagonals and so on."
   ]
  },
  {
   "cell_type": "code",
   "execution_count": 6,
   "metadata": {},
   "outputs": [
    {
     "name": "stdout",
     "output_type": "stream",
     "text": [
      "True\n",
      "False\n"
     ]
    }
   ],
   "source": [
    "origami_two = Origami('(2,3)', '(1,3)')\n",
    "print(origami_one.is_isomorphic(origami_two))\n",
    "\n",
    "origami_three = Origami('(1,2,3)', '')\n",
    "print(origami_one.is_isomorphic(origami_three))"
   ]
  },
  {
   "cell_type": "markdown",
   "metadata": {},
   "source": [
    "**(Optional) Exercise**: Come up with a fast algorithm to determine if a pair of elements in $S_n$ is simultaneously conjugate to some other pair. If you are feeling really brave, you can read how `surface_dynamics` does it ([link to code](https://gitlab.com/videlec/surface_dynamics/-/blob/master/surface_dynamics/flat_surfaces/origamis/normal_form.c))."
   ]
  },
  {
   "cell_type": "markdown",
   "metadata": {},
   "source": [
    "## Other methods on origamis\n",
    "\n",
    "- Compute genus and stratum using the `genus` and `stratum` methods."
   ]
  },
  {
   "cell_type": "code",
   "execution_count": 8,
   "metadata": {},
   "outputs": [
    {
     "name": "stdout",
     "output_type": "stream",
     "text": [
      "H_2(2)\n",
      "H_1(0)\n"
     ]
    }
   ],
   "source": [
    "print(origami_one.stratum())\n",
    "print(origami_three.stratum())"
   ]
  },
  {
   "cell_type": "markdown",
   "metadata": {},
   "source": [
    "- Get horizontal cylinders of the origami"
   ]
  },
  {
   "cell_type": "code",
   "execution_count": 11,
   "metadata": {},
   "outputs": [
    {
     "name": "stdout",
     "output_type": "stream",
     "text": [
      "([(1, 2)], [(2, 1)], 1, 1, 0, 0)\n",
      "([(2, 1), (3, 3)], [(3, 3), (1, 2)], 2, 1, 0, 0)\n"
     ]
    }
   ],
   "source": [
    "for cylinder in origami_one.cylinder_decomposition():\n",
    "    print(cylinder)"
   ]
  },
  {
   "cell_type": "markdown",
   "metadata": {},
   "source": [
    "### Interpreting the output of `cylinder_decomposition`\n",
    "The `cylinder_decomposition` method outputs a list of cylinders. Each cylinder is a tuple of 6 elements. The first element is a list of saddle connections on the top boundary of the cylinder. The second element is the list of saddle connections on the bottom boundary of the cylinder. The third and fourth entries are the width and height of the cylinders. The fifth and sixth entries are the `bot_twist` and `top_twist` of the cylinder (it's not clear to me what that exactly is, so someone else can explain that bit).\n",
    "\n",
    "#### Example of origami with non zero twist"
   ]
  },
  {
   "cell_type": "code",
   "execution_count": 14,
   "metadata": {},
   "outputs": [
    {
     "name": "stdout",
     "output_type": "stream",
     "text": [
      "([(1, 6)], [(3, 1)], 2, 1, 0, 0)\n",
      "([(3, 1), (5, 4)], [(1, 6), (5, 4)], 4, 1, 0, 1)\n"
     ]
    },
    {
     "data": {
      "image/png": "[encoded data removed]",
      "text/plain": [
       "Graphics object consisting of 63 graphics primitives"
      ]
     },
     "execution_count": 14,
     "metadata": {},
     "output_type": "execute_result"
    }
   ],
   "source": [
    "origami_four = Origami('(1,2,3,4)(5,6)', '(1,5,2,6,3,4)')\n",
    "origami_four.plot()\n",
    "for cylinder in origami_four.cylinder_decomposition():\n",
    "    print(cylinder)\n",
    "origami_four.plot()"
   ]
  },
  {
   "cell_type": "markdown",
   "metadata": {},
   "source": [
    "- Another representation of horizontal cylinders"
   ]
  },
  {
   "cell_type": "code",
   "execution_count": 21,
   "metadata": {},
   "outputs": [
    {
     "name": "stdout",
     "output_type": "stream",
     "text": [
      "((0)-(1) (1,2)-(0,2), [2, 2, 2], [1, 1], [0, 3])\n"
     ]
    }
   ],
   "source": [
    "print(origami_four.cylinder_diagram(data=True))"
   ]
  },
  {
   "cell_type": "markdown",
   "metadata": {},
   "source": [
    "The documentation on what the output represents is a little unclear, so perhaps the experts can weigh in."
   ]
  },
  {
   "cell_type": "markdown",
   "metadata": {},
   "source": [
    "## The $GL_2(\\mathbb{R})$ action on origamis\n",
    "\n",
    "Since origamis are translation surfaces, one can act on them via elements of $GL_2(\\mathbb{R})$: however, it's not necessary that origamis get sent to origamis. Consider the following examples:\n",
    "- $\\begin{pmatrix}\n",
    "    \\sqrt{2} & 0 \\\\\n",
    "    0 & 1\n",
    "   \\end{pmatrix}$: Stretching by $\\sqrt{2}$ in the horizontal direction.\n",
    "- $\\begin{pmatrix}\n",
    "    1 & \\frac{1}{\\sqrt{2}} \\\\\n",
    "    0 & 1\n",
    "  \\end{pmatrix}$: Shearing in the horizontal direction.\n",
    "- $\\begin{pmatrix}\n",
    "    \\cos(1) & \\sin(1) \\\\\n",
    "    -\\sin(1) & \\cos(1)\n",
    "  \\end{pmatrix}$: Rotation clockwise by $1$ radian.\n",
    "  \n",
    "**(Optional) Exercise**: Show that these matrices send origamis to non-origamis.\n",
    "\n",
    "Consider now the following matrices.\n",
    "- $S = \\begin{pmatrix}\n",
    "    1 & 1 \\\\\n",
    "    0 & 1\n",
    "  \\end{pmatrix}$: Shearing in the horizontal direction.\n",
    "- $R = \\begin{pmatrix}\n",
    "    0 & 1 \\\\\n",
    "    -1 & 0\n",
    "  \\end{pmatrix}$: Rotation clockwise by $\\frac{\\pi}{2}$ radians.\n",
    "These matrices do send origamis to origamis. To see that, see what they do to a single square. Up to a cut-and-paste operation, single squares get sent to single squares. This tells us that $n$-origamis will get sent to $n$-origamis.\n",
    "\n",
    "### Determining what $S$ and $R$ do to the permutation data\n",
    "\n",
    "The matrix $R$ sends the right edge of a square to the up edge, and the up edge to the left edge. That means all the right gluings should become up gluings, and all the up gluings should become left gluings, which is the inverse of the right gluings.\n",
    "\n",
    "**Exercise**: Work out what $S$ does to the gluings.\n",
    "\n",
    "The library implements these two actions as methods on origamis.\n",
    "\n",
    "- The action of $S^k$ is given by `horizontal_twist(k)`\n",
    "- The action of $R$ is given by the composition of `mirror` and `horizontal_symmetry`."
   ]
  },
  {
   "cell_type": "code",
   "execution_count": 22,
   "metadata": {},
   "outputs": [],
   "source": [
    "sheared_origami = origami_one.horizontal_twist(1)\n",
    "rotated_origami = origami_one.horizontal_symmetry().mirror()"
   ]
  },
  {
   "cell_type": "code",
   "execution_count": 23,
   "metadata": {},
   "outputs": [
    {
     "data": {
      "image/png": "[encoded data removed]",
      "text/plain": [
       "Graphics object consisting of 43 graphics primitives"
      ]
     },
     "execution_count": 23,
     "metadata": {},
     "output_type": "execute_result"
    }
   ],
   "source": [
    "sheared_origami.plot()"
   ]
  },
  {
   "cell_type": "code",
   "execution_count": 24,
   "metadata": {},
   "outputs": [
    {
     "data": {
      "image/png": "[encoded data removed]",
      "text/plain": [
       "Graphics object consisting of 43 graphics primitives"
      ]
     },
     "execution_count": 24,
     "metadata": {},
     "output_type": "execute_result"
    }
   ],
   "source": [
    "rotated_origami.plot()"
   ]
  },
  {
   "cell_type": "markdown",
   "metadata": {},
   "source": [
    "**Fact**: The matrices $S$ and $R$ generate $SL_2(\\mathbb{Z})$.\n",
    "\n",
    "One of the proofs of this fact also gives a factorization algorithm, for instance the first proof in [this article](https://kconrad.math.uconn.edu/blurbs/grouptheory/SL(2,Z).pdf).\n",
    "\n",
    "**Exercise**: Understand the proof and algorithm, and then write a function that takes in an element of $SL_2(\\mathbb{Z})$ and an origami, and returns the origami obtained by acting on the original origami with the matrix. Verify that your function is correct by comparing the results against some simple examples you computed by hand."
   ]
  },
  {
   "cell_type": "markdown",
   "metadata": {},
   "source": [
    "## The action of elements not in $SL_2(\\mathbb{Z})$\n",
    "\n",
    "Consider the action of the matrix $T = \\begin{pmatrix}1 & 1 \\\\ -1 & 1\\end{pmatrix}$ on the standard square torus. One can think of this action as rotation by $\\frac{\\pi}{4}$ radians, and scaling the $x$ and $y$ directions by $\\sqrt{2}$. This action doesn't send the square torus to itself, but rather to a $2$-origami. This suggests that this action maps $n$-origamis to $2n$-origamis.\n",
    "\n",
    "**Exercise**: Given an $n$-origami $O$ with gluing data $(r, u)$, determine the gluing data for $T(O)$.\n",
    "\n",
    "**Long term goal**: Figure out which matrices in $GL_2(\\mathbb{R})$ map $n$-origamis to $m$-origamis, and implement the associated action in Sage.\n",
    "\n",
    "## Why are we doing this?\n",
    "\n",
    "Recall that at the end of day 1, we showed that `origami_one` had convex presentation by showing that in the $\\frac{\\pi}{4}$ direction, it consisted of a single cylinder. In general, we want to analyze the cylinders in various directions for a given origami. Being able to rotate origamis to get origamis is a computationally convenient way of doing this."
   ]
  }
 ],
 "metadata": {
  "kernelspec": {
   "display_name": "SageMath 9.0",
   "language": "sage",
   "name": "sagemath"
  },
  "language_info": {
   "codemirror_mode": {
    "name": "ipython",
    "version": 3
   },
   "file_extension": ".py",
   "mimetype": "text/x-python",
   "name": "python",
   "nbconvert_exporter": "python",
   "pygments_lexer": "ipython3",
   "version": "3.8.5"
  }
 },
 "nbformat": 4,
 "nbformat_minor": 4
}
